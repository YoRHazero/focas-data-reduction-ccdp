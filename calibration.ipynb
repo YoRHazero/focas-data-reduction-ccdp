{
 "cells": [
  {
   "cell_type": "code",
   "execution_count": 2,
   "metadata": {},
   "outputs": [],
   "source": [
    "from pathlib import Path\n",
    "import os\n",
    "\n",
    "from astropy.nddata import CCDData\n",
    "from astropy.visualization import hist\n",
    "import ccdproc as ccdp\n",
    "import matplotlib.pyplot as plt\n",
    "import numpy as np\n",
    "\n",
    "from convenience_functions import show_image\n",
    "\n",
    "from astropy.stats import mad_std"
   ]
  },
  {
   "cell_type": "code",
   "execution_count": 3,
   "metadata": {},
   "outputs": [
    {
     "name": "stdout",
     "output_type": "stream",
     "text": [
      "INFO: An exception happened while extracting WCS information from the Header.\n",
      "InconsistentAxisTypesError: ERROR 4 in wcs_types() at line 3104 of file cextern/wcslib/C/wcs.c:\n",
      "Unmatched celestial axes.\n",
      " [astropy.nddata.ccddata]\n"
     ]
    },
    {
     "name": "stderr",
     "output_type": "stream",
     "text": [
      "WARNING: VerifyWarning: Invalid 'BLANK' keyword in header.  The 'BLANK' keyword is only applicable to integer data, and will be ignored in this HDU. [astropy.io.fits.hdu.image]\n",
      "WARNING: FITSFixedWarning: PC001001= 1.00000000 / Pixel Coordinate translation matrix \n",
      "this form of the PCi_ja keyword is deprecated, use PCi_ja. [astropy.wcs.wcs]\n",
      "WARNING: FITSFixedWarning: PC001002= 0.00000000 / Pixel Coordinate translation matrix \n",
      "this form of the PCi_ja keyword is deprecated, use PCi_ja. [astropy.wcs.wcs]\n",
      "WARNING: FITSFixedWarning: PC002001= 0.00000000 / Pixel Coordinate translation matrix \n",
      "this form of the PCi_ja keyword is deprecated, use PCi_ja. [astropy.wcs.wcs]\n",
      "WARNING: FITSFixedWarning: PC002002= 1.00000000 / Pixel Coordinate translation matrix \n",
      "this form of the PCi_ja keyword is deprecated, use PCi_ja. [astropy.wcs.wcs]\n",
      "WARNING: FITSFixedWarning: RADECSYS= 'FK5 ' / The equatorial coordinate system \n",
      "the RADECSYS keyword is deprecated, use RADESYSa. [astropy.wcs.wcs]\n",
      "WARNING: FITSFixedWarning: 'datfix' made the change 'Set MJD-OBS to 58615.000000 from DATE-OBS.\n",
      "Set DATE-END to '2019-05-12T12:46:07.176' from MJD-END'. [astropy.wcs.wcs]\n",
      "WARNING: FITSFixedWarning: 'unitfix' made the change 'Changed units:\n",
      "  'degree' -> 'deg'. [astropy.wcs.wcs]\n",
      "WARNING: FITSFixedWarning: 'celfix' made the change 'Unmatched celestial axes'. [astropy.wcs.wcs]\n"
     ]
    }
   ],
   "source": [
    "arc=CCDData.read(\"sky.fits\")\n",
    "re_path=Path(\"result\")\n",
    "wc_path=Path(\"wc\")"
   ]
  },
  {
   "cell_type": "code",
   "execution_count": 5,
   "metadata": {},
   "outputs": [],
   "source": [
    "pixel1=500\n",
    "pixel2=3500\n",
    "col1=5\n",
    "col2=100\n",
    "arc_arr=(arc.data).astype('int32')"
   ]
  },
  {
   "cell_type": "code",
   "execution_count": 17,
   "metadata": {},
   "outputs": [],
   "source": [
    "arc_slice=arc_arr[:,0:100]\n",
    "pk_col=50\n",
    "flux=arc_slice[pixel1:pixel2,pk_col]\n",
    "lpeak=arc_slice[pixel1:pixel2,pk_col]-arc_slice[pixel1-1:pixel2-1,pk_col]\n",
    "rpeak=arc_slice[pixel1:pixel2,pk_col]-arc_slice[pixel1+1:pixel2+1,pk_col]\n",
    "peak_tresh=1.5*np.median(flux)\n",
    "peak=(lpeak>0) * (rpeak>0)\n",
    "\n",
    "\n",
    "pk_condi=(peak==True) & (flux>peak_tresh)\n",
    "cdt_pk_pos=np.argwhere(pk_condi)#candidates peak position\n",
    "cdt_pk_flux=flux[pk_condi]\n",
    "\n",
    "num_pk=10\n",
    "too_close=(cdt_pk_pos[1:]-cdt_pk_pos[:-1])<=2\n",
    "\n",
    "pk_index=np.argsort(cdt_pk_flux)[::-1][:num_pk]\n",
    "sort_helper=np.argsort(np.arange(pixel2-pixel1)[pk_condi][pk_index])\n",
    "\n",
    "\n",
    "peak_pos=cdt_pk_pos[pk_index][sort_helper]\n",
    "peak_flux=cdt_pk_flux[pk_index][sort_helper]\n"
   ]
  },
  {
   "cell_type": "code",
   "execution_count": 18,
   "metadata": {},
   "outputs": [
    {
     "data": {
      "text/plain": [
       "array([[ 130],\n",
       "       [ 203],\n",
       "       [ 218],\n",
       "       [ 425],\n",
       "       [ 843],\n",
       "       [ 892],\n",
       "       [ 977],\n",
       "       [1586],\n",
       "       [1631],\n",
       "       [1710]])"
      ]
     },
     "execution_count": 18,
     "metadata": {},
     "output_type": "execute_result"
    }
   ],
   "source": [
    "peak_pos"
   ]
  },
  {
   "cell_type": "code",
   "execution_count": 15,
   "metadata": {},
   "outputs": [
    {
     "data": {
      "text/plain": [
       "array([[ 129],\n",
       "       [ 203],\n",
       "       [ 220],\n",
       "       [ 425],\n",
       "       [ 842],\n",
       "       [ 892],\n",
       "       [ 977],\n",
       "       [1586],\n",
       "       [1631],\n",
       "       [1709]])"
      ]
     },
     "execution_count": 15,
     "metadata": {},
     "output_type": "execute_result"
    }
   ],
   "source": [
    "peak_pos"
   ]
  },
  {
   "cell_type": "code",
   "execution_count": null,
   "metadata": {},
   "outputs": [
    {
     "data": {
      "text/plain": [
       "array([6, 5, 4, 3, 2, 1])"
      ]
     },
     "execution_count": 30,
     "metadata": {},
     "output_type": "execute_result"
    }
   ],
   "source": [
    "arr=np.arange(10,0,-1)\n",
    "arr[np.argsort(arr)[-5::-1]]"
   ]
  },
  {
   "cell_type": "code",
   "execution_count": null,
   "metadata": {},
   "outputs": [
    {
     "data": {
      "text/plain": [
       "65535"
      ]
     },
     "execution_count": 102,
     "metadata": {},
     "output_type": "execute_result"
    }
   ],
   "source": [
    "arc_arr.max()"
   ]
  },
  {
   "cell_type": "code",
   "execution_count": null,
   "metadata": {},
   "outputs": [
    {
     "data": {
      "text/plain": [
       "851"
      ]
     },
     "execution_count": 84,
     "metadata": {},
     "output_type": "execute_result"
    }
   ],
   "source": [
    "peak.sum()"
   ]
  },
  {
   "cell_type": "code",
   "execution_count": null,
   "metadata": {},
   "outputs": [
    {
     "data": {
      "text/plain": [
       "array([False, False, False, ..., False,  True, False])"
      ]
     },
     "execution_count": 89,
     "metadata": {},
     "output_type": "execute_result"
    }
   ],
   "source": [
    "(peak==True) #& (flux>peak_tresh)).sum()"
   ]
  },
  {
   "cell_type": "code",
   "execution_count": null,
   "metadata": {},
   "outputs": [
    {
     "data": {
      "text/plain": [
       "0"
      ]
     },
     "execution_count": 95,
     "metadata": {},
     "output_type": "execute_result"
    }
   ],
   "source": [
    "(flux>peak_tresh).sum()"
   ]
  },
  {
   "cell_type": "code",
   "execution_count": null,
   "metadata": {},
   "outputs": [],
   "source": []
  }
 ],
 "metadata": {
  "kernelspec": {
   "display_name": "ccd",
   "language": "python",
   "name": "python3"
  },
  "language_info": {
   "codemirror_mode": {
    "name": "ipython",
    "version": 3
   },
   "file_extension": ".py",
   "mimetype": "text/x-python",
   "name": "python",
   "nbconvert_exporter": "python",
   "pygments_lexer": "ipython3",
   "version": "3.9.13"
  },
  "orig_nbformat": 4,
  "vscode": {
   "interpreter": {
    "hash": "17f778775fdb52e8d20cebf6aa54921ab71d3dfa421bf16d1768364499e68c93"
   }
  }
 },
 "nbformat": 4,
 "nbformat_minor": 2
}
